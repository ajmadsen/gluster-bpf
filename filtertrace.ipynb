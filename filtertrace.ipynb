{
 "metadata": {
  "language_info": {
   "codemirror_mode": {
    "name": "ipython",
    "version": 3
   },
   "file_extension": ".py",
   "mimetype": "text/x-python",
   "name": "python",
   "nbconvert_exporter": "python",
   "pygments_lexer": "ipython3",
   "version": "3.6.8"
  },
  "orig_nbformat": 2,
  "kernelspec": {
   "name": "python368jvsc74a57bd031f2aee4e71d21fbe5cf8b01ff0e069b9275f58929596ceb00d14d90e3e16cd6",
   "display_name": "Python 3.6.8 64-bit"
  },
  "metadata": {
   "interpreter": {
    "hash": "31f2aee4e71d21fbe5cf8b01ff0e069b9275f58929596ceb00d14d90e3e16cd6"
   }
  }
 },
 "nbformat": 4,
 "nbformat_minor": 2,
 "cells": [
  {
   "cell_type": "code",
   "execution_count": 2,
   "metadata": {},
   "outputs": [
    {
     "output_type": "execute_result",
     "data": {
      "text/plain": [
       "29643"
      ]
     },
     "metadata": {},
     "execution_count": 2
    }
   ],
   "source": [
    "import json\n",
    "\n",
    "events = []\n",
    "with open('out.txt') as fp_:\n",
    "    for line in fp_:\n",
    "        events.append(json.loads(line))\n",
    "\n",
    "len(events)"
   ]
  },
  {
   "cell_type": "code",
   "execution_count": 3,
   "metadata": {},
   "outputs": [
    {
     "output_type": "execute_result",
     "data": {
      "text/plain": [
       "111"
      ]
     },
     "metadata": {},
     "execution_count": 3
    }
   ],
   "source": [
    "unique = set({e['inode'] for e in events})\n",
    "len(unique)"
   ]
  },
  {
   "cell_type": "code",
   "execution_count": 4,
   "metadata": {},
   "outputs": [
    {
     "output_type": "execute_result",
     "data": {
      "text/plain": [
       "{'data': '00000000-0000-0000-0000-000000000000',\n",
       " 'ts': 379283837619867,\n",
       " 'pid': 2992215,\n",
       " 'tgid': 2992210,\n",
       " 'comm': 'glfs_sproc1',\n",
       " 'function': 'getfattr',\n",
       " 'inode': 658,\n",
       " 'name': 'trusted.gfid',\n",
       " 'ustack': ['lgetxattr',\n",
       "  'posix_fill_gfid_path',\n",
       "  'posix_pstat',\n",
       "  'janitor_walker',\n",
       "  'ftw_dir'],\n",
       " 'kstack': ['zpl_xattr_get', 'kretprobe_trampoline']}"
      ]
     },
     "metadata": {},
     "execution_count": 4
    }
   ],
   "source": [
    "events[0]"
   ]
  },
  {
   "cell_type": "code",
   "execution_count": 5,
   "metadata": {},
   "outputs": [
    {
     "output_type": "execute_result",
     "data": {
      "text/plain": [
       "'00000000-0000-0000-0000-000000000000'"
      ]
     },
     "metadata": {},
     "execution_count": 5
    }
   ],
   "source": [
    "from uuid import UUID\n",
    "nil = str(UUID(bytes=bytes([0]*16)))\n",
    "nil"
   ]
  },
  {
   "cell_type": "code",
   "execution_count": 6,
   "metadata": {
    "tags": []
   },
   "outputs": [
    {
     "output_type": "stream",
     "name": "stdout",
     "text": [
      "out of order set 6526: 564fc8ef-4a33-4594-91cc-17542ae6c985 != a53c8d4b-b36a-44dd-b335-c538e4546596\nout of order set 6394: f670ccbf-9a25-4412-8dfe-a1dfa4115d98 != f5f468ec-6bb7-450c-bbc0-ea32cb5cc7b0\nout of order set 7450: ccd86c99-82a7-4273-89c4-547f155a5924 != c3f00577-f1b6-408f-b3fe-f85225003fec\nout of order set 7450: 6b92f6c6-205a-43d3-a3ec-06a784a7a6ad != c3f00577-f1b6-408f-b3fe-f85225003fec\nout of order set 8978: 03d809bd-252d-481f-8447-9da6f7f08911 != 9404e59b-09a8-4ff7-b7d4-da6aa191880c\nout of order set 8002: 671d9ce0-3d6f-46ca-a97d-b8b96acfa624 != 3a5eaafc-38c3-40eb-9be9-9581eb45bfa5\nout of order set 8002: 5a3d9e1d-e259-4282-8391-b86dd8e45c70 != 3a5eaafc-38c3-40eb-9be9-9581eb45bfa5\n"
     ]
    }
   ],
   "source": [
    "order = {}\n",
    "\n",
    "\n",
    "for i, evt in enumerate(events):\n",
    "    d = UUID(evt['data'])\n",
    "\n",
    "    if evt['function'] == 'setfattr':\n",
    "        exist = order.get(evt['inode'], None)\n",
    "\n",
    "        if exist is not None:\n",
    "            print(f'out of order set {evt[\"inode\"]}: {d} != {exist}')\n",
    "            continue\n",
    "\n",
    "        order[evt['inode']] = evt['data']"
   ]
  },
  {
   "cell_type": "code",
   "execution_count": 7,
   "metadata": {},
   "outputs": [],
   "source": [
    "def print_event(evt):\n",
    "    print(f'{evt[\"comm\"]} {evt[\"function\"]}({evt[\"inode\"]}, {evt[\"name\"]}) = {d}')\n"
   ]
  },
  {
   "cell_type": "code",
   "execution_count": 8,
   "metadata": {},
   "outputs": [],
   "source": [
    "def print_stack(evt):\n",
    "    trace = [*evt['kstack'], '-', *evt['ustack']]\n",
    "    print('\\n'.join(trace))"
   ]
  },
  {
   "cell_type": "code",
   "execution_count": 9,
   "metadata": {
    "tags": []
   },
   "outputs": [
    {
     "output_type": "stream",
     "name": "stdout",
     "text": [
      "glfs_iotwr00a getfattr(8002, trusted.gfid) = 00000000-0000-0000-0000-000000000000\nzpl_xattr_get\nkretprobe_trampoline\n-\nlgetxattr\nposix_fill_gfid_path\nposix_pstat\nposix_lookup\ndefault_lookup\ndefault_lookup\nbr_stub_lookup\nposix_acl_lookup\npl_lookup\ndefault_lookup\ndefault_lookup\ndefault_lookup\nup_lookup\ndefault_lookup_resume\ncall_resume_wind\ncall_resume\niot_worker\nstart_thread\nglfs_iotwr000 getfattr(8002, trusted.gfid) = 00000000-0000-0000-0000-000000000000\nzpl_xattr_get\nkretprobe_trampoline\n-\nlgetxattr\nposix_fill_gfid_path\nposix_pstat\nposix_lookup\ndefault_lookup\ndefault_lookup\nbr_stub_lookup\nposix_acl_lookup\npl_lookup\ndefault_lookup\ndefault_lookup\ndefault_lookup\nup_lookup\ndefault_lookup_resume\ncall_resume_wind\ncall_resume\niot_worker\nstart_thread\nglfs_iotwr00a getfattr(8002, trusted.gfid) = 00000000-0000-0000-0000-000000000000\nzpl_xattr_get\nkretprobe_trampoline\n-\nlgetxattr\nposix_gfid_heal\nposix_lookup\ndefault_lookup\ndefault_lookup\nbr_stub_lookup\nposix_acl_lookup\npl_lookup\ndefault_lookup\ndefault_lookup\ndefault_lookup\nup_lookup\ndefault_lookup_resume\ncall_resume_wind\ncall_resume\niot_worker\nstart_thread\nglfs_iotwr000 getfattr(8002, trusted.gfid) = 00000000-0000-0000-0000-000000000000\nzpl_xattr_get\nkretprobe_trampoline\n-\nlgetxattr\nposix_gfid_heal\nposix_lookup\ndefault_lookup\ndefault_lookup\nbr_stub_lookup\nposix_acl_lookup\npl_lookup\ndefault_lookup\ndefault_lookup\ndefault_lookup\nup_lookup\ndefault_lookup_resume\ncall_resume_wind\ncall_resume\niot_worker\nstart_thread\nglfs_iotwr00a getfattr(8002, trusted.gfid) = 00000000-0000-0000-0000-000000000000\nzpl_xattr_get\nkretprobe_trampoline\n-\nlgetxattr\nposix_gfid_set\nposix_gfid_heal\nposix_lookup\ndefault_lookup\ndefault_lookup\nbr_stub_lookup\nposix_acl_lookup\npl_lookup\ndefault_lookup\ndefault_lookup\ndefault_lookup\nup_lookup\ndefault_lookup_resume\ncall_resume_wind\ncall_resume\niot_worker\nstart_thread\nglfs_iotwr000 getfattr(8002, trusted.gfid) = 00000000-0000-0000-0000-000000000000\nzpl_xattr_get\nkretprobe_trampoline\n-\nlgetxattr\nposix_gfid_set\nposix_gfid_heal\nposix_lookup\ndefault_lookup\ndefault_lookup\nbr_stub_lookup\nposix_acl_lookup\npl_lookup\ndefault_lookup\ndefault_lookup\ndefault_lookup\nup_lookup\ndefault_lookup_resume\ncall_resume_wind\ncall_resume\niot_worker\nstart_thread\nglfs_iotwr00e getfattr(8002, trusted.gfid) = 00000000-0000-0000-0000-000000000000\nzpl_xattr_get\nkretprobe_trampoline\n-\nlgetxattr\nposix_fill_gfid_path\nposix_pstat\nposix_lookup\ndefault_lookup\ndefault_lookup\nbr_stub_lookup\nposix_acl_lookup\npl_lookup\ndefault_lookup\ndefault_lookup\ndefault_lookup\nup_lookup\ndefault_lookup_resume\ncall_resume_wind\ncall_resume\niot_worker\nstart_thread\nglfs_iotwr00a setfattr(8002, trusted.gfid) = 3a5eaafc-38c3-40eb-9be9-9581eb45bfa5\nzpl_xattr_set\nzpl_xattr_trusted_set\n__vfs_setxattr\n__vfs_setxattr_noperm\nvfs_setxattr\nsetxattr\npath_setxattr\n__x64_sys_lsetxattr\ndo_syscall_64\nentry_SYSCALL_64_after_hwframe\n-\nlsetxattr\nposix_gfid_set\nposix_gfid_heal\nposix_lookup\ndefault_lookup\ndefault_lookup\nbr_stub_lookup\nposix_acl_lookup\npl_lookup\ndefault_lookup\ndefault_lookup\ndefault_lookup\nup_lookup\ndefault_lookup_resume\ncall_resume_wind\ncall_resume\niot_worker\nstart_thread\nglfs_iotwr009 getfattr(8002, trusted.gfid) = 00000000-0000-0000-0000-000000000000\nzpl_xattr_get\nkretprobe_trampoline\n-\nlgetxattr\nposix_gfid_set\nposix_mknod\ndefault_mknod\nchangelog_mknod\nbr_stub_mknod\nposix_acl_mknod\npl_mknod\ndefault_mknod\nro_mknod\ndefault_mknod\nup_mknod\ndefault_mknod_resume\ncall_resume_wind\ncall_resume\niot_worker\nstart_thread\nglfs_iotwr000 setfattr(8002, trusted.gfid) = 671d9ce0-3d6f-46ca-a97d-b8b96acfa624\nzpl_xattr_set\nzpl_xattr_trusted_set\n__vfs_setxattr\n__vfs_setxattr_noperm\nvfs_setxattr\nsetxattr\npath_setxattr\n__x64_sys_lsetxattr\ndo_syscall_64\nentry_SYSCALL_64_after_hwframe\n-\nlsetxattr\nposix_gfid_set\nposix_gfid_heal\nposix_lookup\ndefault_lookup\ndefault_lookup\nbr_stub_lookup\nposix_acl_lookup\npl_lookup\ndefault_lookup\ndefault_lookup\ndefault_lookup\nup_lookup\ndefault_lookup_resume\ncall_resume_wind\ncall_resume\niot_worker\nstart_thread\nglfs_iotwr00e getfattr(8002, trusted.gfid) = 3a5eaafc-38c3-40eb-9be9-9581eb45bfa5\nzpl_xattr_get\nkretprobe_trampoline\n-\nlgetxattr\nposix_gfid_heal\nposix_lookup\ndefault_lookup\ndefault_lookup\nbr_stub_lookup\nposix_acl_lookup\npl_lookup\ndefault_lookup\ndefault_lookup\ndefault_lookup\nup_lookup\ndefault_lookup_resume\ncall_resume_wind\ncall_resume\niot_worker\nstart_thread\nglfs_iotwr009 setfattr(8002, trusted.gfid) = 5a3d9e1d-e259-4282-8391-b86dd8e45c70\nzpl_xattr_set\nzpl_xattr_trusted_set\n__vfs_setxattr\n__vfs_setxattr_noperm\nvfs_setxattr\nsetxattr\npath_setxattr\n__x64_sys_lsetxattr\ndo_syscall_64\nentry_SYSCALL_64_after_hwframe\n-\nlsetxattr\nposix_gfid_set\nposix_mknod\ndefault_mknod\nchangelog_mknod\nbr_stub_mknod\nposix_acl_mknod\npl_mknod\ndefault_mknod\nro_mknod\ndefault_mknod\nup_mknod\ndefault_mknod_resume\ncall_resume_wind\ncall_resume\niot_worker\nstart_thread\nglfs_iotwr00e getfattr(8002, trusted.gfid) = 3a5eaafc-38c3-40eb-9be9-9581eb45bfa5\nzpl_xattr_get\nkretprobe_trampoline\n-\nlgetxattr\nposix_gfid_set\nposix_gfid_heal\nposix_lookup\ndefault_lookup\ndefault_lookup\nbr_stub_lookup\nposix_acl_lookup\npl_lookup\ndefault_lookup\ndefault_lookup\ndefault_lookup\nup_lookup\ndefault_lookup_resume\ncall_resume_wind\ncall_resume\niot_worker\nstart_thread\nglfs_iotwr001 getfattr(8002, trusted.gfid) = 3a5eaafc-38c3-40eb-9be9-9581eb45bfa5\nzpl_xattr_get\nkretprobe_trampoline\n-\nlgetxattr\nposix_fill_gfid_path\nposix_pstat\nposix_mknod\ndefault_mknod\nchangelog_mknod\nbr_stub_mknod\nposix_acl_mknod\npl_mknod\ndefault_mknod\nro_mknod\ndefault_mknod\nup_mknod\ndefault_mknod_resume\ncall_resume_wind\ncall_resume\niot_worker\nstart_thread\nglfs_iotwr006 getfattr(8002, trusted.gfid) = 3a5eaafc-38c3-40eb-9be9-9581eb45bfa5\nzpl_xattr_get\nkretprobe_trampoline\n-\nlgetxattr\nposix_fill_gfid_path\nposix_pstat\nposix_mknod\ndefault_mknod\nchangelog_mknod\nbr_stub_mknod\nposix_acl_mknod\npl_mknod\ndefault_mknod\nro_mknod\ndefault_mknod\nup_mknod\ndefault_mknod_resume\ncall_resume_wind\ncall_resume\niot_worker\nstart_thread\n"
     ]
    }
   ],
   "source": [
    "f = UUID('3a5eaafc-38c3-40eb-9be9-9581eb45bfa5')\n",
    "ino = 8002\n",
    "\n",
    "filtered = [\n",
    "    evt for evt in events\n",
    "    if UUID(evt['data']) == f\n",
    "    or evt['inode'] == ino\n",
    "]\n",
    "\n",
    "for evt in filtered[:15]:\n",
    "    d = UUID(evt['data'])\n",
    "    print_event(evt)\n",
    "    print_stack(evt)"
   ]
  }
 ]
}